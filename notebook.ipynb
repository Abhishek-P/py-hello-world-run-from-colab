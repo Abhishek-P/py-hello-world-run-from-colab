{
  "nbformat": 4,
  "nbformat_minor": 0,
  "metadata": {
    "colab": {
      "name": "Untitled",
      "provenance": [],
      "collapsed_sections": []
    },
    "kernelspec": {
      "name": "python3",
      "display_name": "Python 3"
    }
  },
  "cells": [
    {
      "cell_type": "code",
      "metadata": {
        "id": "MbcPUPMeOGDG",
        "colab_type": "code",
        "colab": {
          "base_uri": "https://localhost:8080/",
          "height": 34
        },
        "outputId": "a67927ef-5e64-4f75-ee7b-136b764a67f2"
      },
      "source": [
        "import os\n",
        "is_colab = False\n",
        "os.environ['project_dir'] = \"./\"\n",
        "if 'google.colab' in str(get_ipython()):\n",
        "  print('Running on CoLab')\n",
        "  is_colab = True\n",
        "  # Store this in an env variable for terminal or related uses\n",
        "  os.environ['project_dir'] = '/content/gdrive/My Drive/py-hello-world-run-from-colab'\n",
        "else:\n",
        "  print('Not running on CoLab')"
      ],
      "execution_count": 1,
      "outputs": [
        {
          "output_type": "stream",
          "text": [
            "Running on CoLab\n"
          ],
          "name": "stdout"
        }
      ]
    },
    {
      "cell_type": "code",
      "metadata": {
        "id": "HqSN4QdLDn3p",
        "colab_type": "code",
        "colab": {
          "base_uri": "https://localhost:8080/",
          "height": 52
        },
        "outputId": "48444675-04c3-4214-ccb9-525db5a5494d"
      },
      "source": [
        "if is_colab:\n",
        "    from google.colab import drive\n",
        "    drive.mount('/content/gdrive', force_remount=True)\n",
        "    print(\"Mounted Drive successfully\")"
      ],
      "execution_count": 2,
      "outputs": [
        {
          "output_type": "stream",
          "text": [
            "Mounted at /content/gdrive\n",
            "Mounted Drive successfully\n"
          ],
          "name": "stdout"
        }
      ]
    },
    {
      "cell_type": "code",
      "metadata": {
        "id": "kY7AfuBnKHLx",
        "colab_type": "code",
        "colab": {
          "base_uri": "https://localhost:8080/",
          "height": 34
        },
        "outputId": "07eafe1f-d647-44dd-d6e6-c94231fe0e7d"
      },
      "source": [
        "%%bash\n",
        "echo $project_dir"
      ],
      "execution_count": 3,
      "outputs": [
        {
          "output_type": "stream",
          "text": [
            "/content/gdrive/My Drive/py-hello-world-run-from-colab\n"
          ],
          "name": "stdout"
        }
      ]
    },
    {
      "cell_type": "code",
      "metadata": {
        "id": "upB6r9fDSqR-",
        "colab_type": "code",
        "colab": {
          "base_uri": "https://localhost:8080/",
          "height": 52
        },
        "outputId": "b6c66429-8703-4c71-f3d6-eb6860fda950"
      },
      "source": [
        "%pip install -r \"$project_dir/requirements.txt\""
      ],
      "execution_count": 4,
      "outputs": [
        {
          "output_type": "stream",
          "text": [
            "Requirement already satisfied: beautifulsoup4==4.8.2 in /usr/local/lib/python3.6/dist-packages (from -r /content/gdrive/My Drive/py-hello-world-run-from-colab/requirements.txt (line 1)) (4.8.2)\n",
            "Requirement already satisfied: soupsieve>=1.2 in /usr/local/lib/python3.6/dist-packages (from beautifulsoup4==4.8.2->-r /content/gdrive/My Drive/py-hello-world-run-from-colab/requirements.txt (line 1)) (2.0.1)\n"
          ],
          "name": "stdout"
        }
      ]
    },
    {
      "cell_type": "code",
      "metadata": {
        "id": "GRQsLl8CGKgd",
        "colab_type": "code",
        "colab": {
          "base_uri": "https://localhost:8080/",
          "height": 34
        },
        "outputId": "6c6cf2ce-fb88-42c7-9008-44c37e05da89"
      },
      "source": [
        "!python3 \"$project_dir/main.py\""
      ],
      "execution_count": 5,
      "outputs": [
        {
          "output_type": "stream",
          "text": [
            "Hello World! from Colab\n"
          ],
          "name": "stdout"
        }
      ]
    }
  ]
}